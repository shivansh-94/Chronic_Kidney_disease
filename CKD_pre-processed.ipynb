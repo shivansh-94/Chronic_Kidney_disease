{
  "nbformat": 4,
  "nbformat_minor": 0,
  "metadata": {
    "colab": {
      "provenance": []
    },
    "kernelspec": {
      "name": "python3",
      "display_name": "Python 3"
    },
    "language_info": {
      "name": "python"
    }
  },
  "cells": [
    {
      "cell_type": "code",
      "execution_count": 1,
      "metadata": {
        "id": "75xR_K21M5MH"
      },
      "outputs": [],
      "source": [
        "import pandas as pd\n",
        "import numpy as np\n",
        "from sklearn.preprocessing import LabelEncoder"
      ]
    },
    {
      "cell_type": "code",
      "source": [
        "from google.colab import files\n",
        "uploaded = files.upload()"
      ],
      "metadata": {
        "colab": {
          "base_uri": "https://localhost:8080/",
          "height": 73
        },
        "id": "u9StbmtiNnSL",
        "outputId": "8dd25bb1-38b6-4119-c88a-a46062eef698"
      },
      "execution_count": 2,
      "outputs": [
        {
          "output_type": "display_data",
          "data": {
            "text/plain": [
              "<IPython.core.display.HTML object>"
            ],
            "text/html": [
              "\n",
              "     <input type=\"file\" id=\"files-cedbbab6-2587-41da-8287-55deb7500140\" name=\"files[]\" multiple disabled\n",
              "        style=\"border:none\" />\n",
              "     <output id=\"result-cedbbab6-2587-41da-8287-55deb7500140\">\n",
              "      Upload widget is only available when the cell has been executed in the\n",
              "      current browser session. Please rerun this cell to enable.\n",
              "      </output>\n",
              "      <script>// Copyright 2017 Google LLC\n",
              "//\n",
              "// Licensed under the Apache License, Version 2.0 (the \"License\");\n",
              "// you may not use this file except in compliance with the License.\n",
              "// You may obtain a copy of the License at\n",
              "//\n",
              "//      http://www.apache.org/licenses/LICENSE-2.0\n",
              "//\n",
              "// Unless required by applicable law or agreed to in writing, software\n",
              "// distributed under the License is distributed on an \"AS IS\" BASIS,\n",
              "// WITHOUT WARRANTIES OR CONDITIONS OF ANY KIND, either express or implied.\n",
              "// See the License for the specific language governing permissions and\n",
              "// limitations under the License.\n",
              "\n",
              "/**\n",
              " * @fileoverview Helpers for google.colab Python module.\n",
              " */\n",
              "(function(scope) {\n",
              "function span(text, styleAttributes = {}) {\n",
              "  const element = document.createElement('span');\n",
              "  element.textContent = text;\n",
              "  for (const key of Object.keys(styleAttributes)) {\n",
              "    element.style[key] = styleAttributes[key];\n",
              "  }\n",
              "  return element;\n",
              "}\n",
              "\n",
              "// Max number of bytes which will be uploaded at a time.\n",
              "const MAX_PAYLOAD_SIZE = 100 * 1024;\n",
              "\n",
              "function _uploadFiles(inputId, outputId) {\n",
              "  const steps = uploadFilesStep(inputId, outputId);\n",
              "  const outputElement = document.getElementById(outputId);\n",
              "  // Cache steps on the outputElement to make it available for the next call\n",
              "  // to uploadFilesContinue from Python.\n",
              "  outputElement.steps = steps;\n",
              "\n",
              "  return _uploadFilesContinue(outputId);\n",
              "}\n",
              "\n",
              "// This is roughly an async generator (not supported in the browser yet),\n",
              "// where there are multiple asynchronous steps and the Python side is going\n",
              "// to poll for completion of each step.\n",
              "// This uses a Promise to block the python side on completion of each step,\n",
              "// then passes the result of the previous step as the input to the next step.\n",
              "function _uploadFilesContinue(outputId) {\n",
              "  const outputElement = document.getElementById(outputId);\n",
              "  const steps = outputElement.steps;\n",
              "\n",
              "  const next = steps.next(outputElement.lastPromiseValue);\n",
              "  return Promise.resolve(next.value.promise).then((value) => {\n",
              "    // Cache the last promise value to make it available to the next\n",
              "    // step of the generator.\n",
              "    outputElement.lastPromiseValue = value;\n",
              "    return next.value.response;\n",
              "  });\n",
              "}\n",
              "\n",
              "/**\n",
              " * Generator function which is called between each async step of the upload\n",
              " * process.\n",
              " * @param {string} inputId Element ID of the input file picker element.\n",
              " * @param {string} outputId Element ID of the output display.\n",
              " * @return {!Iterable<!Object>} Iterable of next steps.\n",
              " */\n",
              "function* uploadFilesStep(inputId, outputId) {\n",
              "  const inputElement = document.getElementById(inputId);\n",
              "  inputElement.disabled = false;\n",
              "\n",
              "  const outputElement = document.getElementById(outputId);\n",
              "  outputElement.innerHTML = '';\n",
              "\n",
              "  const pickedPromise = new Promise((resolve) => {\n",
              "    inputElement.addEventListener('change', (e) => {\n",
              "      resolve(e.target.files);\n",
              "    });\n",
              "  });\n",
              "\n",
              "  const cancel = document.createElement('button');\n",
              "  inputElement.parentElement.appendChild(cancel);\n",
              "  cancel.textContent = 'Cancel upload';\n",
              "  const cancelPromise = new Promise((resolve) => {\n",
              "    cancel.onclick = () => {\n",
              "      resolve(null);\n",
              "    };\n",
              "  });\n",
              "\n",
              "  // Wait for the user to pick the files.\n",
              "  const files = yield {\n",
              "    promise: Promise.race([pickedPromise, cancelPromise]),\n",
              "    response: {\n",
              "      action: 'starting',\n",
              "    }\n",
              "  };\n",
              "\n",
              "  cancel.remove();\n",
              "\n",
              "  // Disable the input element since further picks are not allowed.\n",
              "  inputElement.disabled = true;\n",
              "\n",
              "  if (!files) {\n",
              "    return {\n",
              "      response: {\n",
              "        action: 'complete',\n",
              "      }\n",
              "    };\n",
              "  }\n",
              "\n",
              "  for (const file of files) {\n",
              "    const li = document.createElement('li');\n",
              "    li.append(span(file.name, {fontWeight: 'bold'}));\n",
              "    li.append(span(\n",
              "        `(${file.type || 'n/a'}) - ${file.size} bytes, ` +\n",
              "        `last modified: ${\n",
              "            file.lastModifiedDate ? file.lastModifiedDate.toLocaleDateString() :\n",
              "                                    'n/a'} - `));\n",
              "    const percent = span('0% done');\n",
              "    li.appendChild(percent);\n",
              "\n",
              "    outputElement.appendChild(li);\n",
              "\n",
              "    const fileDataPromise = new Promise((resolve) => {\n",
              "      const reader = new FileReader();\n",
              "      reader.onload = (e) => {\n",
              "        resolve(e.target.result);\n",
              "      };\n",
              "      reader.readAsArrayBuffer(file);\n",
              "    });\n",
              "    // Wait for the data to be ready.\n",
              "    let fileData = yield {\n",
              "      promise: fileDataPromise,\n",
              "      response: {\n",
              "        action: 'continue',\n",
              "      }\n",
              "    };\n",
              "\n",
              "    // Use a chunked sending to avoid message size limits. See b/62115660.\n",
              "    let position = 0;\n",
              "    do {\n",
              "      const length = Math.min(fileData.byteLength - position, MAX_PAYLOAD_SIZE);\n",
              "      const chunk = new Uint8Array(fileData, position, length);\n",
              "      position += length;\n",
              "\n",
              "      const base64 = btoa(String.fromCharCode.apply(null, chunk));\n",
              "      yield {\n",
              "        response: {\n",
              "          action: 'append',\n",
              "          file: file.name,\n",
              "          data: base64,\n",
              "        },\n",
              "      };\n",
              "\n",
              "      let percentDone = fileData.byteLength === 0 ?\n",
              "          100 :\n",
              "          Math.round((position / fileData.byteLength) * 100);\n",
              "      percent.textContent = `${percentDone}% done`;\n",
              "\n",
              "    } while (position < fileData.byteLength);\n",
              "  }\n",
              "\n",
              "  // All done.\n",
              "  yield {\n",
              "    response: {\n",
              "      action: 'complete',\n",
              "    }\n",
              "  };\n",
              "}\n",
              "\n",
              "scope.google = scope.google || {};\n",
              "scope.google.colab = scope.google.colab || {};\n",
              "scope.google.colab._files = {\n",
              "  _uploadFiles,\n",
              "  _uploadFilesContinue,\n",
              "};\n",
              "})(self);\n",
              "</script> "
            ]
          },
          "metadata": {}
        },
        {
          "output_type": "stream",
          "name": "stdout",
          "text": [
            "Saving kidney_disease.csv to kidney_disease.csv\n"
          ]
        }
      ]
    },
    {
      "cell_type": "code",
      "source": [
        "df = pd.read_csv('/content/kidney_disease.csv')"
      ],
      "metadata": {
        "id": "Q_kzpVk2Npq-"
      },
      "execution_count": 3,
      "outputs": []
    },
    {
      "cell_type": "code",
      "source": [
        "# Rename columns for better readability (correcting abbreviations)\n",
        "column_rename_map = {\n",
        "    'bp': 'blood_pressure',\n",
        "    'sg': 'specific_gravity',\n",
        "    'al': 'albumin',\n",
        "    'su': 'sugar',\n",
        "    'rbc': 'red_blood_cells',\n",
        "    'pc': 'pus_cell',\n",
        "    'pcc': 'pus_cell_clumps',\n",
        "    'ba': 'bacteria',\n",
        "    'bgr': 'blood_glucose_random',\n",
        "    'bu': 'blood_urea',\n",
        "    'sc': 'serum_creatinine',\n",
        "    'sod': 'sodium',\n",
        "    'pot': 'potassium',\n",
        "    'hemo': 'hemoglobin',\n",
        "    'pcv': 'packed_cell_volume',\n",
        "    'wc': 'white_blood_cell_count',\n",
        "    'rc': 'red_blood_cell_count',\n",
        "    'htn': 'hypertension',\n",
        "    'dm': 'diabetes_mellitus',\n",
        "    'cad': 'coronary_artery_disease',\n",
        "    'appet': 'appetite',\n",
        "    'pe': 'pedal_edema',\n",
        "    'ane': 'anemia'\n",
        "}\n",
        "\n",
        "df = df.rename(columns=column_rename_map)\n",
        "print(\"\\nRenamed columns:\", df.columns.tolist())"
      ],
      "metadata": {
        "colab": {
          "base_uri": "https://localhost:8080/"
        },
        "id": "RULmEh_FN77k",
        "outputId": "360e0da7-0539-4b10-c7f1-efb40da7f633"
      },
      "execution_count": 4,
      "outputs": [
        {
          "output_type": "stream",
          "name": "stdout",
          "text": [
            "\n",
            "Renamed columns: ['id', 'age', 'blood_pressure', 'specific_gravity', 'albumin', 'sugar', 'red_blood_cells', 'pus_cell', 'pus_cell_clumps', 'bacteria', 'blood_glucose_random', 'blood_urea', 'serum_creatinine', 'sodium', 'potassium', 'hemoglobin', 'packed_cell_volume', 'white_blood_cell_count', 'red_blood_cell_count', 'hypertension', 'diabetes_mellitus', 'coronary_artery_disease', 'appetite', 'pedal_edema', 'anemia', 'classification']\n"
          ]
        }
      ]
    },
    {
      "cell_type": "code",
      "source": [
        "print(\"\\nInitial shape:\", df.shape)\n",
        "print(\"\\nInitial info:\")\n",
        "print(df.info())"
      ],
      "metadata": {
        "colab": {
          "base_uri": "https://localhost:8080/"
        },
        "id": "sLfTDUv5OAx_",
        "outputId": "3f2a7335-8dd9-4239-dbef-5b81a66e1f54"
      },
      "execution_count": 5,
      "outputs": [
        {
          "output_type": "stream",
          "name": "stdout",
          "text": [
            "\n",
            "Initial shape: (400, 26)\n",
            "\n",
            "Initial info:\n",
            "<class 'pandas.core.frame.DataFrame'>\n",
            "RangeIndex: 400 entries, 0 to 399\n",
            "Data columns (total 26 columns):\n",
            " #   Column                   Non-Null Count  Dtype  \n",
            "---  ------                   --------------  -----  \n",
            " 0   id                       400 non-null    int64  \n",
            " 1   age                      391 non-null    float64\n",
            " 2   blood_pressure           388 non-null    float64\n",
            " 3   specific_gravity         353 non-null    float64\n",
            " 4   albumin                  354 non-null    float64\n",
            " 5   sugar                    351 non-null    float64\n",
            " 6   red_blood_cells          248 non-null    object \n",
            " 7   pus_cell                 335 non-null    object \n",
            " 8   pus_cell_clumps          396 non-null    object \n",
            " 9   bacteria                 396 non-null    object \n",
            " 10  blood_glucose_random     356 non-null    float64\n",
            " 11  blood_urea               381 non-null    float64\n",
            " 12  serum_creatinine         383 non-null    float64\n",
            " 13  sodium                   313 non-null    float64\n",
            " 14  potassium                312 non-null    float64\n",
            " 15  hemoglobin               348 non-null    float64\n",
            " 16  packed_cell_volume       330 non-null    object \n",
            " 17  white_blood_cell_count   295 non-null    object \n",
            " 18  red_blood_cell_count     270 non-null    object \n",
            " 19  hypertension             398 non-null    object \n",
            " 20  diabetes_mellitus        398 non-null    object \n",
            " 21  coronary_artery_disease  398 non-null    object \n",
            " 22  appetite                 399 non-null    object \n",
            " 23  pedal_edema              399 non-null    object \n",
            " 24  anemia                   399 non-null    object \n",
            " 25  classification           400 non-null    object \n",
            "dtypes: float64(11), int64(1), object(14)\n",
            "memory usage: 81.4+ KB\n",
            "None\n"
          ]
        }
      ]
    },
    {
      "cell_type": "code",
      "source": [
        "print(df.isnull().sum())"
      ],
      "metadata": {
        "colab": {
          "base_uri": "https://localhost:8080/"
        },
        "id": "5GKGZR5COGYm",
        "outputId": "7545c105-3d1c-4a2e-926a-980d8b8fb4ad"
      },
      "execution_count": 6,
      "outputs": [
        {
          "output_type": "stream",
          "name": "stdout",
          "text": [
            "id                           0\n",
            "age                          9\n",
            "blood_pressure              12\n",
            "specific_gravity            47\n",
            "albumin                     46\n",
            "sugar                       49\n",
            "red_blood_cells            152\n",
            "pus_cell                    65\n",
            "pus_cell_clumps              4\n",
            "bacteria                     4\n",
            "blood_glucose_random        44\n",
            "blood_urea                  19\n",
            "serum_creatinine            17\n",
            "sodium                      87\n",
            "potassium                   88\n",
            "hemoglobin                  52\n",
            "packed_cell_volume          70\n",
            "white_blood_cell_count     105\n",
            "red_blood_cell_count       130\n",
            "hypertension                 2\n",
            "diabetes_mellitus            2\n",
            "coronary_artery_disease      2\n",
            "appetite                     1\n",
            "pedal_edema                  1\n",
            "anemia                       1\n",
            "classification               0\n",
            "dtype: int64\n"
          ]
        }
      ]
    },
    {
      "cell_type": "code",
      "source": [
        "# For numerical columns: fill with median\n",
        "num_cols = ['age', 'blood_pressure', 'specific_gravity', 'albumin', 'sugar',\n",
        "            'blood_glucose_random', 'blood_urea', 'serum_creatinine',\n",
        "            'sodium', 'potassium', 'hemoglobin', 'packed_cell_volume',\n",
        "            'white_blood_cell_count', 'red_blood_cell_count']\n",
        "\n",
        "for col in num_cols:\n",
        "    df[col] = pd.to_numeric(df[col], errors='coerce')  # Convert to numeric, handling errors\n",
        "    df[col].fillna(df[col].median(), inplace=True)"
      ],
      "metadata": {
        "colab": {
          "base_uri": "https://localhost:8080/"
        },
        "id": "kXbSfwBkOJEL",
        "outputId": "0ee8dc41-6557-4782-f96e-df176de721a3"
      },
      "execution_count": 7,
      "outputs": [
        {
          "output_type": "stream",
          "name": "stderr",
          "text": [
            "/tmp/ipython-input-7-3754187682.py:9: FutureWarning: A value is trying to be set on a copy of a DataFrame or Series through chained assignment using an inplace method.\n",
            "The behavior will change in pandas 3.0. This inplace method will never work because the intermediate object on which we are setting values always behaves as a copy.\n",
            "\n",
            "For example, when doing 'df[col].method(value, inplace=True)', try using 'df.method({col: value}, inplace=True)' or df[col] = df[col].method(value) instead, to perform the operation inplace on the original object.\n",
            "\n",
            "\n",
            "  df[col].fillna(df[col].median(), inplace=True)\n"
          ]
        }
      ]
    },
    {
      "cell_type": "code",
      "source": [
        "# For categorical columns: fill with mode\n",
        "cat_cols = ['red_blood_cells', 'pus_cell', 'pus_cell_clumps', 'bacteria',\n",
        "            'hypertension', 'diabetes_mellitus', 'coronary_artery_disease',\n",
        "            'appetite', 'pedal_edema', 'anemia']\n",
        "\n",
        "for col in cat_cols:\n",
        "    df[col].fillna(df[col].mode()[0], inplace=True)"
      ],
      "metadata": {
        "colab": {
          "base_uri": "https://localhost:8080/"
        },
        "id": "SV7-bsGjOeGM",
        "outputId": "b2362323-1f07-4d5a-da17-d09dc106679e"
      },
      "execution_count": 8,
      "outputs": [
        {
          "output_type": "stream",
          "name": "stderr",
          "text": [
            "/tmp/ipython-input-8-399304325.py:7: FutureWarning: A value is trying to be set on a copy of a DataFrame or Series through chained assignment using an inplace method.\n",
            "The behavior will change in pandas 3.0. This inplace method will never work because the intermediate object on which we are setting values always behaves as a copy.\n",
            "\n",
            "For example, when doing 'df[col].method(value, inplace=True)', try using 'df.method({col: value}, inplace=True)' or df[col] = df[col].method(value) instead, to perform the operation inplace on the original object.\n",
            "\n",
            "\n",
            "  df[col].fillna(df[col].mode()[0], inplace=True)\n"
          ]
        }
      ]
    },
    {
      "cell_type": "code",
      "source": [
        "print(\"\\nNull values after handling:\")\n",
        "print(df.isnull().sum())"
      ],
      "metadata": {
        "colab": {
          "base_uri": "https://localhost:8080/"
        },
        "id": "7sPK7D-ZO3Kj",
        "outputId": "4b24beeb-bf0f-4e4d-c8cd-8ec33ebeefea"
      },
      "execution_count": 9,
      "outputs": [
        {
          "output_type": "stream",
          "name": "stdout",
          "text": [
            "\n",
            "Null values after handling:\n",
            "id                         0\n",
            "age                        0\n",
            "blood_pressure             0\n",
            "specific_gravity           0\n",
            "albumin                    0\n",
            "sugar                      0\n",
            "red_blood_cells            0\n",
            "pus_cell                   0\n",
            "pus_cell_clumps            0\n",
            "bacteria                   0\n",
            "blood_glucose_random       0\n",
            "blood_urea                 0\n",
            "serum_creatinine           0\n",
            "sodium                     0\n",
            "potassium                  0\n",
            "hemoglobin                 0\n",
            "packed_cell_volume         0\n",
            "white_blood_cell_count     0\n",
            "red_blood_cell_count       0\n",
            "hypertension               0\n",
            "diabetes_mellitus          0\n",
            "coronary_artery_disease    0\n",
            "appetite                   0\n",
            "pedal_edema                0\n",
            "anemia                     0\n",
            "classification             0\n",
            "dtype: int64\n"
          ]
        }
      ]
    },
    {
      "cell_type": "code",
      "source": [
        "cat_cols = df.select_dtypes(include=['object']).columns.tolist()\n",
        "# Remove the target variable 'classification' from categorical columns\n",
        "cat_cols.remove('classification')\n",
        "print(\"\\nCategorical columns:\", cat_cols)\n",
        "\n",
        "# Let's examine the unique values in each categorical column\n",
        "print(\"\\nUnique values in categorical columns:\")\n",
        "for col in cat_cols:\n",
        "    print(f\"{col}: {df[col].unique()}\")"
      ],
      "metadata": {
        "colab": {
          "base_uri": "https://localhost:8080/"
        },
        "id": "rgU0jYN5O5Uz",
        "outputId": "25671aec-d6ce-4f9b-e9a7-a6a864fc6bf9"
      },
      "execution_count": 10,
      "outputs": [
        {
          "output_type": "stream",
          "name": "stdout",
          "text": [
            "\n",
            "Categorical columns: ['red_blood_cells', 'pus_cell', 'pus_cell_clumps', 'bacteria', 'hypertension', 'diabetes_mellitus', 'coronary_artery_disease', 'appetite', 'pedal_edema', 'anemia']\n",
            "\n",
            "Unique values in categorical columns:\n",
            "red_blood_cells: ['normal' 'abnormal']\n",
            "pus_cell: ['normal' 'abnormal']\n",
            "pus_cell_clumps: ['notpresent' 'present']\n",
            "bacteria: ['notpresent' 'present']\n",
            "hypertension: ['yes' 'no']\n",
            "diabetes_mellitus: ['yes' 'no' ' yes' '\\tno' '\\tyes']\n",
            "coronary_artery_disease: ['no' 'yes' '\\tno']\n",
            "appetite: ['good' 'poor']\n",
            "pedal_edema: ['no' 'yes']\n",
            "anemia: ['no' 'yes']\n"
          ]
        }
      ]
    },
    {
      "cell_type": "code",
      "source": [
        "df['diabetes_mellitus'] = df['diabetes_mellitus'].replace({' yes': 'yes', '\\tyes': 'yes', '\\tno': 'no'})\n",
        "df['coronary_artery_disease'] = df['coronary_artery_disease'].replace({'\\tno': 'no'})\n",
        "df['classification'] = df['classification'].replace({'ckd\\t': 'ckd'})"
      ],
      "metadata": {
        "id": "3SvyH7vHPAz8"
      },
      "execution_count": 11,
      "outputs": []
    },
    {
      "cell_type": "code",
      "source": [
        "label_encoders = {}\n",
        "for col in cat_cols:\n",
        "    le = LabelEncoder()\n",
        "    df[col] = le.fit_transform(df[col].astype(str))\n",
        "    label_encoders[col] = le\n",
        "    print(f\"\\n{col} after encoding:\")\n",
        "    print(df[col].value_counts())\n",
        "\n",
        "# Also encode the target variable\n",
        "le = LabelEncoder()\n",
        "df['classification'] = le.fit_transform(df['classification'])\n",
        "print(\"\\nTarget variable after encoding:\")\n",
        "print(df['classification'].value_counts())\n"
      ],
      "metadata": {
        "colab": {
          "base_uri": "https://localhost:8080/"
        },
        "id": "jwNewcgYPMuA",
        "outputId": "c08e7bd8-9c75-4f1c-d447-fe5345b4caac"
      },
      "execution_count": 12,
      "outputs": [
        {
          "output_type": "stream",
          "name": "stdout",
          "text": [
            "\n",
            "red_blood_cells after encoding:\n",
            "red_blood_cells\n",
            "1    353\n",
            "0     47\n",
            "Name: count, dtype: int64\n",
            "\n",
            "pus_cell after encoding:\n",
            "pus_cell\n",
            "1    324\n",
            "0     76\n",
            "Name: count, dtype: int64\n",
            "\n",
            "pus_cell_clumps after encoding:\n",
            "pus_cell_clumps\n",
            "0    358\n",
            "1     42\n",
            "Name: count, dtype: int64\n",
            "\n",
            "bacteria after encoding:\n",
            "bacteria\n",
            "0    378\n",
            "1     22\n",
            "Name: count, dtype: int64\n",
            "\n",
            "hypertension after encoding:\n",
            "hypertension\n",
            "0    253\n",
            "1    147\n",
            "Name: count, dtype: int64\n",
            "\n",
            "diabetes_mellitus after encoding:\n",
            "diabetes_mellitus\n",
            "0    263\n",
            "1    137\n",
            "Name: count, dtype: int64\n",
            "\n",
            "coronary_artery_disease after encoding:\n",
            "coronary_artery_disease\n",
            "0    366\n",
            "1     34\n",
            "Name: count, dtype: int64\n",
            "\n",
            "appetite after encoding:\n",
            "appetite\n",
            "0    318\n",
            "1     82\n",
            "Name: count, dtype: int64\n",
            "\n",
            "pedal_edema after encoding:\n",
            "pedal_edema\n",
            "0    324\n",
            "1     76\n",
            "Name: count, dtype: int64\n",
            "\n",
            "anemia after encoding:\n",
            "anemia\n",
            "0    340\n",
            "1     60\n",
            "Name: count, dtype: int64\n",
            "\n",
            "Target variable after encoding:\n",
            "classification\n",
            "0    250\n",
            "1    150\n",
            "Name: count, dtype: int64\n"
          ]
        }
      ]
    },
    {
      "cell_type": "code",
      "source": [
        "from sklearn.preprocessing import MinMaxScaler\n",
        "\n",
        "scaler = MinMaxScaler()\n",
        "df['blood_urea'] = scaler.fit_transform(df[['blood_urea']])\n",
        "\n",
        "print(\"\\nBlood urea after normalization:\")\n",
        "print(df['blood_urea'].describe())"
      ],
      "metadata": {
        "colab": {
          "base_uri": "https://localhost:8080/"
        },
        "id": "xBHpysP0P5l1",
        "outputId": "82ef7244-a3a5-46b2-825d-a6e710b33c56"
      },
      "execution_count": 13,
      "outputs": [
        {
          "output_type": "stream",
          "name": "stdout",
          "text": [
            "\n",
            "Blood urea after normalization:\n",
            "count    400.000000\n",
            "mean       0.141702\n",
            "std        0.126817\n",
            "min        0.000000\n",
            "25%        0.065469\n",
            "50%        0.103979\n",
            "75%        0.154685\n",
            "max        1.000000\n",
            "Name: blood_urea, dtype: float64\n"
          ]
        }
      ]
    },
    {
      "cell_type": "code",
      "source": [
        "print(\"\\nFinal null check:\")\n",
        "print(df.isnull().sum().sum())"
      ],
      "metadata": {
        "colab": {
          "base_uri": "https://localhost:8080/"
        },
        "id": "ondqbSGxWIOd",
        "outputId": "ff83e09b-48a6-4edd-c7b0-3ca0437a25fb"
      },
      "execution_count": 14,
      "outputs": [
        {
          "output_type": "stream",
          "name": "stdout",
          "text": [
            "\n",
            "Final null check:\n",
            "0\n"
          ]
        }
      ]
    },
    {
      "cell_type": "code",
      "source": [],
      "metadata": {
        "id": "Ph9MYaneZWtK"
      },
      "execution_count": null,
      "outputs": []
    }
  ]
}